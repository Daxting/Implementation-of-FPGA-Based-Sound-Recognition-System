{
 "cells": [
  {
   "cell_type": "code",
   "execution_count": 20,
   "metadata": {},
   "outputs": [
    {
     "name": "stdout",
     "output_type": "stream",
     "text": [
      "Files created successfully\n"
     ]
    }
   ],
   "source": [
    "def split_coe_file(input_file_path):\n",
    "    with open(input_file_path, 'r') as file:\n",
    "        lines = file.readlines()\n",
    "        \n",
    "    data_start_index = next(i for i, line in enumerate(lines) if 'MEMORY_INITIALIZATION_VECTOR' in line) + 1\n",
    "    data = []\n",
    "    for line in lines[data_start_index:]:\n",
    "        # read the line and add the elements(seperated by commas) to the data list \n",
    "        line = line.strip().split(',')\n",
    "        data.extend(line)\n",
    "\n",
    "    # remove empty strings from the data list\n",
    "    data = [x for x in data if x != '']\n",
    "    # data_0 = data[0:16]+data[64:80]+data[128:144]+data[192:208]+...+data[4032:4048]\n",
    "    # data_1 = data[16:32]+data[80:96]+data[144:160]+data[208:224]+...+data[4048:4064]\n",
    "    # data_2 = data[32:48]+data[96:112]+data[160:176]+data[224:240]+...+data[4064:4080]\n",
    "    # data_3 = data[48:63]+data[112:127]+data[176:191]+data[240:255]+...+data[4080:4095]\n",
    "    # declare the data lists as strings with the elements seperated by commas\n",
    "    data_0 = [','.join(data[i:i+17]) for i in range(0, 4096, 64)]\n",
    "    data_1 = [','.join(data[i:i+17]) for i in range(16, 4096, 64)]\n",
    "    data_2 = [','.join(data[i:i+17]) for i in range(32, 4096, 64)]\n",
    "    data_3 = []\n",
    "    for i in range(48, 4096, 64):\n",
    "        segment = data[i:i+16] + ['0000']\n",
    "        data_3.append(','.join(segment))\n",
    "\n",
    "\n",
    "    #output the new coe files with the data_0, data_1, data_2, data_3\n",
    "    header = ''.join(lines[:data_start_index])\n",
    "    coe_content_0 = header + ',\\n'.join(data_0) + ',\\n'\n",
    "    coe_content_1 = header + ',\\n'.join(data_1) + ',\\n'\n",
    "    coe_content_2 = header + ',\\n'.join(data_2) + ',\\n'\n",
    "    coe_content_3 = header + ',\\n'.join(data_3) + ',\\n'\n",
    "    \n",
    "    # create a new folder named 'yes', 'no' if it does not exist\n",
    "    import os\n",
    "    if not os.path.exists('yes'):\n",
    "        os.makedirs('yes')\n",
    "    if not os.path.exists('no'):\n",
    "        os.makedirs('no')\n",
    "    # create the coe files in the folder 'yes', 'no'\n",
    "    # if the first character of input_file_path is 'y', and last character is placed after yes_, filename = 'yes_0_segment0.coe'\n",
    "    # if the first character of input_file_path is 'n', and last character is placed after no_, filename = 'no_0_segment0.coe' \n",
    "    # put the files in the folder 'yes' or 'no' based on the first character of input_file_path\n",
    "    if(input_file_path[0] == 'y'):\n",
    "        filename = f'yes\\\\yes_'+input_file_path[-5]+f'_segment_0.coe'\n",
    "    else:\n",
    "        filename = f'no\\\\no_'+input_file_path[-5]+f'_segment_0.coe'\n",
    "    with open(filename, 'w') as file:\n",
    "        file.write(coe_content_0)\n",
    "    if(input_file_path[0] == 'y'):\n",
    "        filename = f'yes\\\\yes_'+input_file_path[-5]+f'_segment_1.coe'\n",
    "    else:\n",
    "        filename = f'no\\\\no_'+input_file_path[-5]+f'_segment_1.coe'\n",
    "    with open(filename, 'w') as file:\n",
    "        file.write(coe_content_1)\n",
    "    if(input_file_path[0] == 'y'):\n",
    "        filename = f'yes\\\\yes_'+input_file_path[-5]+f'_segment_2.coe'\n",
    "    else:\n",
    "        filename = f'no\\\\no_'+input_file_path[-5]+f'_segment_2.coe'\n",
    "    with open(filename, 'w') as file:\n",
    "        file.write(coe_content_2)\n",
    "    if(input_file_path[0] == 'y'):\n",
    "        filename = f'yes\\\\yes_'+input_file_path[-5]+f'_segment_3.coe'\n",
    "    else:\n",
    "        filename = f'no\\\\no_'+input_file_path[-5]+f'_segment_3.coe'\n",
    "    with open(filename, 'w') as file:\n",
    "        file.write(coe_content_3)\n",
    "    print('Files created successfully')\n",
    "\n",
    "split_coe_file('yes_signal9.coe')"
   ]
  },
  {
   "cell_type": "code",
   "execution_count": null,
   "metadata": {},
   "outputs": [],
   "source": []
  }
 ],
 "metadata": {
  "kernelspec": {
   "display_name": "Python 3",
   "language": "python",
   "name": "python3"
  },
  "language_info": {
   "codemirror_mode": {
    "name": "ipython",
    "version": 3
   },
   "file_extension": ".py",
   "mimetype": "text/x-python",
   "name": "python",
   "nbconvert_exporter": "python",
   "pygments_lexer": "ipython3",
   "version": "3.9.13"
  }
 },
 "nbformat": 4,
 "nbformat_minor": 2
}
