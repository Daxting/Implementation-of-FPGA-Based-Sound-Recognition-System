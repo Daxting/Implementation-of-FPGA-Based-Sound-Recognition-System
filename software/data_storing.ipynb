{
 "cells": [
  {
   "cell_type": "markdown",
   "metadata": {},
   "source": [
    "#### 輸出模型基本資料"
   ]
  },
  {
   "cell_type": "markdown",
   "metadata": {},
   "source": [
    "##### 若要輸出模型kernal，將1~23block 全部執行就可以了 (後半段為shuffleNet test data的.m檔輸出)"
   ]
  },
  {
   "cell_type": "code",
   "execution_count": null,
   "metadata": {},
   "outputs": [],
   "source": [
    "import tensorflow as tf\n",
    "from tensorflow import keras\n",
    "import numpy as np\n",
    "# Loads the model\n",
    "new_model = tf.keras.models.load_model('shuffleNet_v1_0603.h5')\n",
    "\n",
    "# Show the model architecture\n",
    "new_model.summary()"
   ]
  },
  {
   "cell_type": "code",
   "execution_count": null,
   "metadata": {},
   "outputs": [],
   "source": [
    "import h5py\n",
    "import pandas as pd\n",
    "import scipy.io as scio\n",
    "\n",
    "filename = 'shuffleNet_v1_weights_0603.h5'\n",
    "f = h5py.File(filename, 'r')\n",
    "a_group_key = []\n",
    "for i in list(f.keys()):\n",
    "    if i[0] == 'd' or i[0:4] == 'conv':\n",
    "        a_group_key.append(i)\n",
    "\n",
    "#List all groups\n",
    "print(\"Keys: %s\" % a_group_key)\n",
    "kernal0 = []\n",
    "kernal1 = []\n",
    "kernal2 = []\n",
    "kernal3 = []\n",
    "\n"
   ]
  },
  {
   "cell_type": "markdown",
   "metadata": {},
   "source": [
    "#### 一般3*3 conv"
   ]
  },
  {
   "cell_type": "code",
   "execution_count": 3,
   "metadata": {},
   "outputs": [
    {
     "name": "stdout",
     "output_type": "stream",
     "text": [
      "done\n"
     ]
    }
   ],
   "source": [
    "#Get the data\n",
    "kernal_dataset = list(f['conv2d']['conv2d']['kernel:0'])\n",
    "bias_dataset = list(f['conv2d']['conv2d']['bias:0'])\n",
    "#print(kernal_dataset)\n",
    "#print(bias_dataset)\n",
    "for kernalx in range(4):\n",
    "    data = []\n",
    "    for kernaly in range(4):\n",
    "        for i in range(3):\n",
    "            for j in range(3):\n",
    "                data.append(f['conv2d']['conv2d']['kernel:0'][i][j][0][kernalx*4 + kernaly]) #['bias:0'], ['kernel:0']\n",
    "        data.append(f['conv2d']['conv2d']['bias:0'][kernalx*4 + kernaly]) #['bias:0'], ['kernel:0']\n",
    "    data = np.array(data).reshape(8, 5)\n",
    "    #pd.DataFrame(data).to_csv(f\"./shuffleNet_v1_weights/conv_stage1/{a_group_key[0]}_kernal_{kernalx*4 + kernaly}.csv\", chunksize = 64)\n",
    "    if kernalx == 0:\n",
    "        kernal0.extend(data)\n",
    "    elif kernalx == 1:\n",
    "        kernal1.extend(data)\n",
    "    elif kernalx == 2:\n",
    "        kernal2.extend(data)\n",
    "    elif kernalx == 3:\n",
    "        kernal3.extend(data)\n",
    "    filename = f'./shuffleNet_v1_weights/conv_stage1/{a_group_key[0]}_kernal_{kernalx}.mat'\n",
    "    mdic = {\"weight\": data, \"label\": \"experiment\"}\n",
    "    scio.savemat(filename, mdic)\n",
    "print('done')"
   ]
  },
  {
   "cell_type": "markdown",
   "metadata": {},
   "source": [
    "#### stage2 conv1"
   ]
  },
  {
   "cell_type": "code",
   "execution_count": 4,
   "metadata": {},
   "outputs": [
    {
     "name": "stdout",
     "output_type": "stream",
     "text": [
      "done\n"
     ]
    }
   ],
   "source": [
    "#Get the data\n",
    "dataset = list(f['conv2d_1']['conv2d_1']['kernel:0'])\n",
    "#print(dataset)\n",
    "order = [0, 2, 4, 6, 1, 3, 5, 7]\n",
    "counter = 0\n",
    "kernalname = 0\n",
    "for kernalx in order:\n",
    "    if counter == 0:\n",
    "        data = []\n",
    "    for i in range(4):\n",
    "        for j in range(4):\n",
    "            data.append(f['conv2d_1']['conv2d_1']['kernel:0'][0][0][i*4 + j][kernalx]) #['bias:0'], ['kernel:0']\n",
    "        data.append(0.0)\n",
    "    counter += 1\n",
    "    if counter == 2:\n",
    "        data = np.array(data).reshape(8, 5)\n",
    "\n",
    "        if kernalname == 0:\n",
    "            kernal0.extend(data)\n",
    "        elif kernalname == 1:\n",
    "            kernal1.extend(data)\n",
    "        elif kernalname == 2:\n",
    "            kernal2.extend(data)\n",
    "        elif kernalname == 3:\n",
    "            kernal3.extend(data)\n",
    "        filename = f'./shuffleNet_v1_weights/conv_stage2/conv1/{a_group_key[0]}_kernal_{kernalname}.mat'\n",
    "        mdic = {\"weight\": data, \"label\": \"experiment\"}\n",
    "        scio.savemat(filename, mdic)\n",
    "        counter = 0\n",
    "        kernalname += 1          \n",
    "print('done')"
   ]
  },
  {
   "cell_type": "markdown",
   "metadata": {},
   "source": [
    "#### stage2 DWconv1"
   ]
  },
  {
   "cell_type": "code",
   "execution_count": 5,
   "metadata": {},
   "outputs": [
    {
     "name": "stdout",
     "output_type": "stream",
     "text": [
      "done\n"
     ]
    }
   ],
   "source": [
    "#Get the data\n",
    "dataset = list(f['depthwise_conv2d']['depthwise_conv2d']['depthwise_kernel:0'])\n",
    "#print(dataset)\n",
    "order = [0, 4, 1, 5, 2, 6, 3, 7]\n",
    "counter = 0\n",
    "kernalname = 0\n",
    "for kernalx in order:\n",
    "    if counter == 0:\n",
    "        data = []\n",
    "    for i in range(3):\n",
    "        for j in range(3):\n",
    "            data.append(f['depthwise_conv2d']['depthwise_conv2d']['depthwise_kernel:0'][i][j][kernalx][0]) #['bias:0'], ['kernel:0']\n",
    "    data.append(0.0)\n",
    "    counter += 1\n",
    "    if counter == 2:\n",
    "        data = np.array(data).reshape(4, 5)\n",
    "\n",
    "        if kernalname == 0:\n",
    "            kernal0.extend(data)\n",
    "        elif kernalname == 1:\n",
    "            kernal1.extend(data)\n",
    "        elif kernalname == 2:\n",
    "            kernal2.extend(data)\n",
    "        elif kernalname == 3:\n",
    "            kernal3.extend(data)\n",
    "        filename = f'./shuffleNet_v1_weights/conv_stage2/DWconv1/{a_group_key[0]}_kernal_{kernalname}.mat'\n",
    "        mdic = {\"weight\": data, \"label\": \"experiment\"}\n",
    "        scio.savemat(filename, mdic)\n",
    "        counter = 0\n",
    "        kernalname += 1\n",
    "print('done')"
   ]
  },
  {
   "cell_type": "markdown",
   "metadata": {},
   "source": [
    "#### stage2 PWconv1"
   ]
  },
  {
   "cell_type": "code",
   "execution_count": 6,
   "metadata": {},
   "outputs": [
    {
     "name": "stdout",
     "output_type": "stream",
     "text": [
      "done\n"
     ]
    }
   ],
   "source": [
    "#Get the data\n",
    "dataset = list(f['conv2d_2']['conv2d_2']['kernel:0'])\n",
    "dataset1 = list(f['conv2d_3']['conv2d_3']['kernel:0'])\n",
    "#print(dataset)\n",
    "#print(dataset1)\n",
    "order = [0, 4, 1, 5, 2, 6, 3, 7]\n",
    "counter = 0\n",
    "for kernalx in order:\n",
    "    if counter == 0:\n",
    "        data = []\n",
    "        data1 = []\n",
    "    for i in range(4):\n",
    "        data.append(f['conv2d_2']['conv2d_2']['kernel:0'][0][0][i][kernalx]) #['bias:0'], ['kernel:0']\n",
    "    data.append(0.0)\n",
    "    for i in range(4):\n",
    "        data1.append(f['conv2d_3']['conv2d_3']['kernel:0'][0][0][i][kernalx]) #['bias:0'], ['kernel:0']\n",
    "    data1.append(0.0)\n",
    "    counter += 1\n",
    "    if counter == 2:#\n",
    "        data.extend(data1)\n",
    "        data = np.array(data).reshape(4, 5)\n",
    "\n",
    "        if (kernalx-4) == 0:\n",
    "            kernal0.extend(data)\n",
    "        elif (kernalx-4) == 1:\n",
    "            kernal1.extend(data)\n",
    "        elif (kernalx-4) == 2:\n",
    "            kernal2.extend(data)\n",
    "        elif (kernalx-4) == 3:\n",
    "            kernal3.extend(data)\n",
    "        filename = f'./shuffleNet_v1_weights/conv_stage2/PWconv1/{a_group_key[0]}_kernal_{kernalx-4}.mat'\n",
    "        mdic = {\"weight\": data, \"label\": \"experiment\"}\n",
    "        scio.savemat(filename, mdic)\n",
    "        counter = 0          \n",
    "print('done')"
   ]
  },
  {
   "cell_type": "markdown",
   "metadata": {},
   "source": [
    "#### stage2 conv2"
   ]
  },
  {
   "cell_type": "code",
   "execution_count": 7,
   "metadata": {},
   "outputs": [
    {
     "name": "stdout",
     "output_type": "stream",
     "text": [
      "done\n"
     ]
    }
   ],
   "source": [
    "#Get the data\n",
    "dataset = list(f['conv2d_4']['conv2d_4']['kernel:0'])\n",
    "#print(dataset)\n",
    "order = [0, 2, 4, 6, 1, 3, 5, 7]\n",
    "counter = 0\n",
    "kernalname = 0\n",
    "for kernalx in order:\n",
    "    if counter == 0:\n",
    "        data = []\n",
    "    for kernaly in range(8):\n",
    "        for i in range(4):\n",
    "            data.append(f['conv2d_4']['conv2d_4']['kernel:0'][0][0][i + kernaly*4][kernalx]) #['bias:0'], ['kernel:0']\n",
    "        data.append(0.0)\n",
    "    counter += 1\n",
    "    if counter == 2:\n",
    "        data = np.array(data).reshape(16, 5)\n",
    "\n",
    "        if kernalname == 0:\n",
    "            kernal0.extend(data)\n",
    "        elif kernalname == 1:\n",
    "            kernal1.extend(data)\n",
    "        elif kernalname == 2:\n",
    "            kernal2.extend(data)\n",
    "        elif kernalname == 3:\n",
    "            kernal3.extend(data)\n",
    "        filename = f'./shuffleNet_v1_weights/conv_stage2/conv2/{a_group_key[0]}_kernal_{kernalname}.mat'\n",
    "        mdic = {\"weight\": data, \"label\": \"experiment\"}\n",
    "        scio.savemat(filename, mdic)\n",
    "        counter = 0\n",
    "        kernalname += 1          \n",
    "print('done')"
   ]
  },
  {
   "cell_type": "markdown",
   "metadata": {},
   "source": [
    "#### stage2 DWconv2"
   ]
  },
  {
   "cell_type": "code",
   "execution_count": 8,
   "metadata": {},
   "outputs": [
    {
     "name": "stdout",
     "output_type": "stream",
     "text": [
      "done\n"
     ]
    }
   ],
   "source": [
    "#Get the data\n",
    "dataset = list(f['depthwise_conv2d_1']['depthwise_conv2d_1']['depthwise_kernel:0'])\n",
    "#print(dataset)\n",
    "order = [0, 4, 1, 5, 2, 6, 3, 7]\n",
    "counter = 0\n",
    "kernalname = 0\n",
    "for kernalx in order:\n",
    "    if counter == 0:\n",
    "        data = []\n",
    "    for i in range(3):\n",
    "        for j in range(3):\n",
    "            data.append(f['depthwise_conv2d_1']['depthwise_conv2d_1']['depthwise_kernel:0'][i][j][kernalx][0]) #['bias:0'], ['kernel:0']\n",
    "    data.append(0.0)\n",
    "    counter += 1\n",
    "    if counter == 2:\n",
    "        data = np.array(data).reshape(4, 5)\n",
    "\n",
    "        if kernalname == 0:\n",
    "            kernal0.extend(data)\n",
    "        elif kernalname == 1:\n",
    "            kernal1.extend(data)\n",
    "        elif kernalname == 2:\n",
    "            kernal2.extend(data)\n",
    "        elif kernalname == 3:\n",
    "            kernal3.extend(data)\n",
    "        filename = f'./shuffleNet_v1_weights/conv_stage2/DWconv2/{a_group_key[0]}_kernal_{kernalname}.mat'\n",
    "        mdic = {\"weight\": data, \"label\": \"experiment\"}\n",
    "        scio.savemat(filename, mdic)\n",
    "        counter = 0\n",
    "        kernalname += 1\n",
    "print('done')"
   ]
  },
  {
   "cell_type": "markdown",
   "metadata": {},
   "source": [
    "#### stage2 PWconv2"
   ]
  },
  {
   "cell_type": "code",
   "execution_count": 9,
   "metadata": {},
   "outputs": [
    {
     "name": "stdout",
     "output_type": "stream",
     "text": [
      "done\n"
     ]
    }
   ],
   "source": [
    "#Get the data\n",
    "dataset = list(f['conv2d_5']['conv2d_5']['kernel:0'])\n",
    "dataset1 = list(f['conv2d_6']['conv2d_6']['kernel:0'])\n",
    "#print(dataset)\n",
    "#print(dataset1)\n",
    "order = [0, 4, 8, 12, 1, 5, 9, 13, 2, 6, 10, 14, 3, 7, 11, 15]\n",
    "counter = 0\n",
    "for kernalx in order:\n",
    "    if counter == 0:\n",
    "        data = []\n",
    "        data1 = []\n",
    "    for i in range(4):\n",
    "        data.append(f['conv2d_5']['conv2d_5']['kernel:0'][0][0][i][kernalx]) #['bias:0'], ['kernel:0']\n",
    "    data.append(0.0)\n",
    "    for i in range(4):\n",
    "        data1.append(f['conv2d_6']['conv2d_6']['kernel:0'][0][0][i][kernalx]) #['bias:0'], ['kernel:0']\n",
    "    data1.append(0.0)\n",
    "    counter += 1\n",
    "    if counter == 4:#\n",
    "        data.extend(data1)\n",
    "        data = np.array(data).reshape(8, 5)\n",
    "\n",
    "        if (kernalx-12) == 0:\n",
    "            kernal0.extend(data)\n",
    "        elif (kernalx-12) == 1:\n",
    "            kernal1.extend(data)\n",
    "        elif (kernalx-12) == 2:\n",
    "            kernal2.extend(data)\n",
    "        elif (kernalx-12) == 3:\n",
    "            kernal3.extend(data)\n",
    "        filename = f'./shuffleNet_v1_weights/conv_stage2/PWconv2/{a_group_key[0]}_kernal_{kernalx-12}.mat'\n",
    "        mdic = {\"weight\": data, \"label\": \"experiment\"}\n",
    "        scio.savemat(filename, mdic)\n",
    "        counter = 0          \n",
    "print('done')"
   ]
  },
  {
   "cell_type": "markdown",
   "metadata": {},
   "source": [
    "#### stage3 Gconv1"
   ]
  },
  {
   "cell_type": "code",
   "execution_count": 10,
   "metadata": {},
   "outputs": [
    {
     "name": "stdout",
     "output_type": "stream",
     "text": [
      "done\n"
     ]
    }
   ],
   "source": [
    "#Get the data\n",
    "dataset = list(f['conv2d_7']['conv2d_7']['kernel:0'])\n",
    "dataset1 = list(f['conv2d_8']['conv2d_8']['kernel:0'])\n",
    "#print(dataset)\n",
    "#print(dataset1)\n",
    "order = [0, 2, 4, 6, 1, 3, 5, 7]\n",
    "counter = 0\n",
    "kernalname = 0\n",
    "for kernalx in order:\n",
    "    if counter == 0:\n",
    "        data = []\n",
    "        data1 = []\n",
    "    for i in range(16):\n",
    "        data.append(f['conv2d_7']['conv2d_7']['kernel:0'][0][0][i][kernalx]) #['bias:0'], ['kernel:0']\n",
    "        if i%4 == 3:\n",
    "            data.append(0.0)\n",
    "    for i in range(16):\n",
    "        data1.append(f['conv2d_8']['conv2d_8']['kernel:0'][0][0][i][kernalx]) #['bias:0'], ['kernel:0']\n",
    "        if i%4 == 3:\n",
    "            data1.append(0.0)\n",
    "    counter += 1\n",
    "    if counter == 4:\n",
    "        data = np.array(data).reshape(16, 5)\n",
    "        filename = f'./shuffleNet_v1_weights/conv_stage3/Gconv1/{a_group_key[0]}_kernal_{kernalname}.mat'\n",
    "        mdic = {\"weight\": data, \"label\": \"experiment\"}\n",
    "        if kernalname == 0:\n",
    "            kernal0.extend(data)\n",
    "        elif kernalname == 2:\n",
    "            kernal2.extend(data)\n",
    "        scio.savemat(filename, mdic)\n",
    "        data1 = np.array(data1).reshape(16, 5)\n",
    "        if kernalname == 0:\n",
    "            kernal1.extend(data1)\n",
    "        elif kernalname == 2:\n",
    "            kernal3.extend(data1)\n",
    "        filename = f'./shuffleNet_v1_weights/conv_stage3/Gconv1/{a_group_key[0]}_kernal_{kernalname + 1}.mat'\n",
    "        mdic = {\"weight\": data1, \"label\": \"experiment\"}\n",
    "        scio.savemat(filename, mdic)\n",
    "        counter = 0\n",
    "        kernalname += 2        \n",
    "print('done')"
   ]
  },
  {
   "cell_type": "markdown",
   "metadata": {},
   "source": [
    "#### stage3 DWconv1"
   ]
  },
  {
   "cell_type": "code",
   "execution_count": 11,
   "metadata": {},
   "outputs": [
    {
     "name": "stdout",
     "output_type": "stream",
     "text": [
      "done\n"
     ]
    }
   ],
   "source": [
    "#Get the data\n",
    "dataset = list(f['depthwise_conv2d_2']['depthwise_conv2d_2']['depthwise_kernel:0'])\n",
    "#print(dataset)\n",
    "order = [0, 4, 8, 12, 1, 5, 9, 13, 2, 6, 10, 14, 3, 7, 11, 15]\n",
    "counter = 0\n",
    "kernalname = 0\n",
    "for kernalx in order:\n",
    "    if counter == 0:\n",
    "        data = []\n",
    "    for i in range(3):\n",
    "        for j in range(3):\n",
    "            data.append(f['depthwise_conv2d_2']['depthwise_conv2d_2']['depthwise_kernel:0'][i][j][kernalx][0]) #['bias:0'], ['kernel:0']\n",
    "    data.append(0.0)\n",
    "    counter += 1\n",
    "    if counter == 4:\n",
    "        data = np.array(data).reshape(8, 5)\n",
    "        if kernalname == 0:\n",
    "            kernal0.extend(data)\n",
    "        elif kernalname == 1:\n",
    "            kernal1.extend(data)\n",
    "        elif kernalname == 2:\n",
    "            kernal2.extend(data)\n",
    "        elif kernalname == 3:\n",
    "            kernal3.extend(data)\n",
    "        filename = f'./shuffleNet_v1_weights/conv_stage3/DWconv1/{a_group_key[0]}_kernal_{kernalname}.mat'\n",
    "        mdic = {\"weight\": data, \"label\": \"experiment\"}\n",
    "        scio.savemat(filename, mdic)\n",
    "        counter = 0\n",
    "        kernalname += 1\n",
    "print('done')"
   ]
  },
  {
   "cell_type": "markdown",
   "metadata": {},
   "source": [
    "#### stage3 PWconv1"
   ]
  },
  {
   "cell_type": "code",
   "execution_count": 12,
   "metadata": {},
   "outputs": [
    {
     "name": "stdout",
     "output_type": "stream",
     "text": [
      "done\n"
     ]
    }
   ],
   "source": [
    "#Get the data\n",
    "dataset = list(f['conv2d_9']['conv2d_9']['kernel:0'])\n",
    "dataset1 = list(f['conv2d_10']['conv2d_10']['kernel:0'])\n",
    "#print(dataset)\n",
    "#print(dataset1)\n",
    "order = [0, 4, 8, 12, 1, 5, 9, 13, 2, 6, 10, 14, 3, 7, 11, 15]\n",
    "counter = 0\n",
    "for kernalx in order:\n",
    "    if counter == 0:\n",
    "        data = []\n",
    "        data1 = []\n",
    "    for i in range(8):\n",
    "        data.append(f['conv2d_9']['conv2d_9']['kernel:0'][0][0][i][kernalx]) #['bias:0'], ['kernel:0']\n",
    "        if i%4 == 3:\n",
    "            data.append(0.0)\n",
    "    for i in range(8):\n",
    "        data1.append(f['conv2d_10']['conv2d_10']['kernel:0'][0][0][i][kernalx]) #['bias:0'], ['kernel:0']\n",
    "        if i%4 == 3:\n",
    "            data1.append(0.0)\n",
    "    counter += 1\n",
    "    if counter == 4:#\n",
    "        data.extend(data1)\n",
    "        data = np.array(data).reshape(16, 5)\n",
    "        if (kernalx-12) == 0:\n",
    "            kernal0.extend(data)\n",
    "        elif (kernalx-12) == 1:\n",
    "            kernal1.extend(data)\n",
    "        elif (kernalx-12) == 2:\n",
    "            kernal2.extend(data)\n",
    "        elif (kernalx-12) == 3:\n",
    "            kernal3.extend(data)\n",
    "        filename = f'./shuffleNet_v1_weights/conv_stage3/PWconv1/{a_group_key[0]}_kernal_{kernalx-12}.mat'\n",
    "        mdic = {\"weight\": data, \"label\": \"experiment\"}\n",
    "        scio.savemat(filename, mdic)\n",
    "        counter = 0          \n",
    "print('done')"
   ]
  },
  {
   "cell_type": "markdown",
   "metadata": {},
   "source": [
    "#### stage3 Gconv2"
   ]
  },
  {
   "cell_type": "code",
   "execution_count": 13,
   "metadata": {},
   "outputs": [
    {
     "name": "stdout",
     "output_type": "stream",
     "text": [
      "done\n"
     ]
    }
   ],
   "source": [
    "#Get the data\n",
    "dataset = list(f['conv2d_11']['conv2d_11']['kernel:0'])\n",
    "dataset1 = list(f['conv2d_12']['conv2d_12']['kernel:0'])\n",
    "#print(dataset)\n",
    "#print(dataset1)\n",
    "order = [0, 2, 4, 6, 1, 3, 5, 7]\n",
    "counter = 0\n",
    "kernalname = 0\n",
    "for kernalx in order:\n",
    "    if counter == 0:\n",
    "        data = []\n",
    "        data1 = []\n",
    "    for i in range(32):\n",
    "        data.append(f['conv2d_11']['conv2d_11']['kernel:0'][0][0][i][kernalx]) #['bias:0'], ['kernel:0']\n",
    "        if i%4 == 3:\n",
    "            data.append(0.0)\n",
    "    for i in range(32):\n",
    "        data1.append(f['conv2d_12']['conv2d_12']['kernel:0'][0][0][i][kernalx]) #['bias:0'], ['kernel:0']\n",
    "        if i%4 == 3:\n",
    "            data1.append(0.0)\n",
    "    counter += 1\n",
    "    if counter == 4:\n",
    "        data = np.array(data).reshape(32, 5)\n",
    "        if kernalname == 0:\n",
    "            kernal0.extend(data)\n",
    "        elif kernalname == 2:\n",
    "            kernal2.extend(data)\n",
    "        filename = f'./shuffleNet_v1_weights/conv_stage3/Gconv2/{a_group_key[0]}_kernal_{kernalname}.mat'\n",
    "        mdic = {\"weight\": data, \"label\": \"experiment\"}\n",
    "        scio.savemat(filename, mdic)\n",
    "        data1 = np.array(data1).reshape(32, 5)\n",
    "        if kernalname == 0:\n",
    "            kernal1.extend(data1)\n",
    "        elif kernalname == 2:\n",
    "            kernal3.extend(data1)\n",
    "        filename = f'./shuffleNet_v1_weights/conv_stage3/Gconv2/{a_group_key[0]}_kernal_{kernalname + 1}.mat'\n",
    "        mdic = {\"weight\": data1, \"label\": \"experiment\"}\n",
    "        scio.savemat(filename, mdic)\n",
    "        counter = 0\n",
    "        kernalname += 2        \n",
    "print('done')"
   ]
  },
  {
   "cell_type": "markdown",
   "metadata": {},
   "source": [
    "#### stage3 DWconv2"
   ]
  },
  {
   "cell_type": "code",
   "execution_count": 14,
   "metadata": {},
   "outputs": [
    {
     "name": "stdout",
     "output_type": "stream",
     "text": [
      "done\n"
     ]
    }
   ],
   "source": [
    "#Get the data\n",
    "dataset = list(f['depthwise_conv2d_3']['depthwise_conv2d_3']['depthwise_kernel:0'])\n",
    "#print(dataset)\n",
    "order = [0, 4, 8, 12, 1, 5, 9, 13, 2, 6, 10, 14, 3, 7, 11, 15]\n",
    "counter = 0\n",
    "kernalname = 0\n",
    "for kernalx in order:\n",
    "    if counter == 0:\n",
    "        data = []\n",
    "    for i in range(3):\n",
    "        for j in range(3):\n",
    "            data.append(f['depthwise_conv2d_3']['depthwise_conv2d_3']['depthwise_kernel:0'][i][j][kernalx][0]) #['bias:0'], ['kernel:0']\n",
    "    data.append(0.0)\n",
    "    counter += 1\n",
    "    if counter == 4:\n",
    "        data = np.array(data).reshape(8, 5)\n",
    "        if kernalname == 0:\n",
    "            kernal0.extend(data)\n",
    "        elif kernalname == 1:\n",
    "            kernal1.extend(data)\n",
    "        elif kernalname == 2:\n",
    "            kernal2.extend(data)\n",
    "        elif kernalname == 3:\n",
    "            kernal3.extend(data)\n",
    "        filename = f'./shuffleNet_v1_weights/conv_stage3/DWconv2/{a_group_key[0]}_kernal_{kernalname}.mat'\n",
    "        mdic = {\"weight\": data, \"label\": \"experiment\"}\n",
    "        scio.savemat(filename, mdic)\n",
    "        counter = 0\n",
    "        kernalname += 1\n",
    "print('done')"
   ]
  },
  {
   "cell_type": "markdown",
   "metadata": {},
   "source": [
    "#### stage3 PWconv2"
   ]
  },
  {
   "cell_type": "code",
   "execution_count": 15,
   "metadata": {},
   "outputs": [
    {
     "name": "stdout",
     "output_type": "stream",
     "text": [
      "done\n"
     ]
    }
   ],
   "source": [
    "#Get the data\n",
    "dataset = list(f['conv2d_13']['conv2d_13']['kernel:0'])\n",
    "dataset1 = list(f['conv2d_14']['conv2d_14']['kernel:0'])\n",
    "#print(dataset)\n",
    "#print(dataset1)\n",
    "order = [0, 4, 8, 12, 16, 20, 24, 28, 1, 5, 9, 13, 17, 21, 25, 29, 2, 6, 10, 14, 18, 22, 26, 30, 3, 7, 11, 15, 19, 23, 27, 31]\n",
    "counter = 0\n",
    "for kernalx in order:\n",
    "    if counter == 0:\n",
    "        data = []\n",
    "        data1 = []\n",
    "    for i in range(8):\n",
    "        data.append(f['conv2d_13']['conv2d_13']['kernel:0'][0][0][i][kernalx]) #['bias:0'], ['kernel:0']\n",
    "        if i%4 == 3:\n",
    "            data.append(0.0)\n",
    "    for i in range(8):\n",
    "        data1.append(f['conv2d_14']['conv2d_14']['kernel:0'][0][0][i][kernalx]) #['bias:0'], ['kernel:0']\n",
    "        if i%4 == 3:\n",
    "            data1.append(0.0)\n",
    "    counter += 1\n",
    "    if counter == 8:\n",
    "        data.extend(data1)\n",
    "        data = np.array(data).reshape(32, 5)\n",
    "        if (kernalx-28) == 0:\n",
    "            kernal0.extend(data)\n",
    "        elif (kernalx-28) == 1:\n",
    "            kernal1.extend(data)\n",
    "        elif (kernalx-28) == 2:\n",
    "            kernal2.extend(data)\n",
    "        elif (kernalx-28) == 3:\n",
    "            kernal3.extend(data)\n",
    "        filename = f'./shuffleNet_v1_weights/conv_stage3/PWconv2/{a_group_key[0]}_kernal_{kernalx-28}.mat'\n",
    "        mdic = {\"weight\": data, \"label\": \"experiment\"}\n",
    "        scio.savemat(filename, mdic)\n",
    "        counter = 0          \n",
    "print('done')"
   ]
  },
  {
   "cell_type": "markdown",
   "metadata": {},
   "source": [
    "#### stage3 Gconv3"
   ]
  },
  {
   "cell_type": "code",
   "execution_count": 16,
   "metadata": {},
   "outputs": [
    {
     "name": "stdout",
     "output_type": "stream",
     "text": [
      "done\n"
     ]
    }
   ],
   "source": [
    "#Get the data\n",
    "dataset = list(f['conv2d_15']['conv2d_15']['kernel:0'])\n",
    "dataset1 = list(f['conv2d_16']['conv2d_16']['kernel:0'])\n",
    "#print(dataset)\n",
    "#print(dataset1)\n",
    "order = [0, 2, 4, 6, 1, 3, 5, 7]\n",
    "counter = 0\n",
    "kernalname = 0\n",
    "for kernalx in order:\n",
    "    if counter == 0:\n",
    "        data = []\n",
    "        data1 = []\n",
    "    for i in range(32):\n",
    "        data.append(f['conv2d_15']['conv2d_15']['kernel:0'][0][0][i][kernalx]) #['bias:0'], ['kernel:0']\n",
    "        if i%4 == 3:\n",
    "            data.append(0.0)\n",
    "    for i in range(32):\n",
    "        data1.append(f['conv2d_16']['conv2d_16']['kernel:0'][0][0][i][kernalx]) #['bias:0'], ['kernel:0']\n",
    "        if i%4 == 3:\n",
    "            data1.append(0.0)\n",
    "    counter += 1\n",
    "    if counter == 4:\n",
    "        data = np.array(data).reshape(32, 5)\n",
    "        if kernalname == 0:\n",
    "            kernal0.extend(data)\n",
    "        elif kernalname == 2:\n",
    "            kernal2.extend(data)\n",
    "        filename = f'./shuffleNet_v1_weights/conv_stage3/Gconv3/{a_group_key[0]}_kernal_{kernalname}.mat'\n",
    "        mdic = {\"weight\": data, \"label\": \"experiment\"}\n",
    "        scio.savemat(filename, mdic)\n",
    "        data1 = np.array(data1).reshape(32, 5)\n",
    "        if kernalname == 0:\n",
    "            kernal1.extend(data1)\n",
    "        elif kernalname == 2:\n",
    "            kernal3.extend(data1)\n",
    "        filename = f'./shuffleNet_v1_weights/conv_stage3/Gconv3/{a_group_key[0]}_kernal_{kernalname + 1}.mat'\n",
    "        mdic = {\"weight\": data1, \"label\": \"experiment\"}\n",
    "        scio.savemat(filename, mdic)\n",
    "        counter = 0\n",
    "        kernalname += 2        \n",
    "print('done')"
   ]
  },
  {
   "cell_type": "markdown",
   "metadata": {},
   "source": [
    "#### stage3 DWconv3"
   ]
  },
  {
   "cell_type": "code",
   "execution_count": 17,
   "metadata": {},
   "outputs": [
    {
     "name": "stdout",
     "output_type": "stream",
     "text": [
      "done\n"
     ]
    }
   ],
   "source": [
    "#Get the data\n",
    "dataset = list(f['depthwise_conv2d_4']['depthwise_conv2d_4']['depthwise_kernel:0'])\n",
    "#print(dataset)\n",
    "order = [0, 4, 8, 12, 1, 5, 9, 13, 2, 6, 10, 14, 3, 7, 11, 15]\n",
    "counter = 0\n",
    "kernalname = 0\n",
    "for kernalx in order:\n",
    "    if counter == 0:\n",
    "        data = []\n",
    "    for i in range(3):\n",
    "        for j in range(3):\n",
    "            data.append(f['depthwise_conv2d_4']['depthwise_conv2d_4']['depthwise_kernel:0'][i][j][kernalx][0]) #['bias:0'], ['kernel:0']\n",
    "    data.append(0.0)\n",
    "    counter += 1\n",
    "    if counter == 4:\n",
    "        data = np.array(data).reshape(8, 5)\n",
    "        if kernalname == 0:\n",
    "            kernal0.extend(data)\n",
    "        elif kernalname == 1:\n",
    "            kernal1.extend(data)\n",
    "        elif kernalname == 2:\n",
    "            kernal2.extend(data)\n",
    "        elif kernalname == 3:\n",
    "            kernal3.extend(data)\n",
    "        filename = f'./shuffleNet_v1_weights/conv_stage3/DWconv3/{a_group_key[0]}_kernal_{kernalname}.mat'\n",
    "        mdic = {\"weight\": data, \"label\": \"experiment\"}\n",
    "        scio.savemat(filename, mdic)\n",
    "        counter = 0\n",
    "        kernalname += 1\n",
    "print('done')"
   ]
  },
  {
   "cell_type": "markdown",
   "metadata": {},
   "source": [
    "#### stage3 PWconv3"
   ]
  },
  {
   "cell_type": "code",
   "execution_count": 18,
   "metadata": {},
   "outputs": [
    {
     "name": "stdout",
     "output_type": "stream",
     "text": [
      "done\n"
     ]
    }
   ],
   "source": [
    "#Get the data\n",
    "dataset = list(f['conv2d_17']['conv2d_17']['kernel:0'])\n",
    "dataset1 = list(f['conv2d_18']['conv2d_18']['kernel:0'])\n",
    "#print(dataset)\n",
    "#print(dataset1)\n",
    "order = [0, 4, 8, 12, 16, 20, 24, 28, 1, 5, 9, 13, 17, 21, 25, 29, 2, 6, 10, 14, 18, 22, 26, 30, 3, 7, 11, 15, 19, 23, 27, 31]\n",
    "counter = 0\n",
    "for kernalx in order:\n",
    "    if counter == 0:\n",
    "        data = []\n",
    "        data1 = []\n",
    "    for i in range(8):\n",
    "        data.append(f['conv2d_17']['conv2d_17']['kernel:0'][0][0][i][kernalx]) #['bias:0'], ['kernel:0']\n",
    "        if i%4 == 3:\n",
    "            data.append(0.0)\n",
    "    for i in range(8):\n",
    "        data1.append(f['conv2d_18']['conv2d_18']['kernel:0'][0][0][i][kernalx]) #['bias:0'], ['kernel:0']\n",
    "        if i%4 == 3:\n",
    "            data1.append(0.0)\n",
    "    counter += 1\n",
    "    if counter == 8:\n",
    "        data.extend(data1)\n",
    "        data = np.array(data).reshape(32, 5)\n",
    "        if (kernalx-28) == 0:\n",
    "            kernal0.extend(data)\n",
    "        elif (kernalx-28) == 1:\n",
    "            kernal1.extend(data)\n",
    "        elif (kernalx-28) == 2:\n",
    "            kernal2.extend(data)\n",
    "        elif (kernalx-28) == 3:\n",
    "            kernal3.extend(data)\n",
    "        filename = f'./shuffleNet_v1_weights/conv_stage3/PWconv3/{a_group_key[0]}_kernal_{kernalx-28}.mat'\n",
    "        mdic = {\"weight\": data, \"label\": \"experiment\"}\n",
    "        scio.savemat(filename, mdic)\n",
    "        counter = 0          \n",
    "print('done')"
   ]
  },
  {
   "cell_type": "markdown",
   "metadata": {},
   "source": [
    "#### stage3 Gconv4"
   ]
  },
  {
   "cell_type": "code",
   "execution_count": 19,
   "metadata": {},
   "outputs": [
    {
     "name": "stdout",
     "output_type": "stream",
     "text": [
      "done\n"
     ]
    }
   ],
   "source": [
    "#Get the data\n",
    "dataset = list(f['conv2d_19']['conv2d_19']['kernel:0'])\n",
    "dataset1 = list(f['conv2d_20']['conv2d_20']['kernel:0'])\n",
    "#print(dataset)\n",
    "#print(dataset1)\n",
    "order = [0, 2, 4, 6, 1, 3, 5, 7]\n",
    "counter = 0\n",
    "kernalname = 0\n",
    "for kernalx in order:\n",
    "    if counter == 0:\n",
    "        data = []\n",
    "        data1 = []\n",
    "    for i in range(32):\n",
    "        data.append(f['conv2d_19']['conv2d_19']['kernel:0'][0][0][i][kernalx]) #['bias:0'], ['kernel:0']\n",
    "        if i%4 == 3:\n",
    "            data.append(0.0)\n",
    "    for i in range(32):\n",
    "        data1.append(f['conv2d_20']['conv2d_20']['kernel:0'][0][0][i][kernalx]) #['bias:0'], ['kernel:0']\n",
    "        if i%4 == 3:\n",
    "            data1.append(0.0)\n",
    "    counter += 1\n",
    "    if counter == 4:\n",
    "        data = np.array(data).reshape(32, 5)\n",
    "        if kernalname == 0:\n",
    "            kernal0.extend(data)\n",
    "        elif kernalname == 2:\n",
    "            kernal2.extend(data)\n",
    "        filename = f'./shuffleNet_v1_weights/conv_stage3/Gconv4/{a_group_key[0]}_kernal_{kernalname}.mat'\n",
    "        mdic = {\"weight\": data, \"label\": \"experiment\"}\n",
    "        scio.savemat(filename, mdic)\n",
    "        data1 = np.array(data1).reshape(32, 5)\n",
    "        if kernalname == 0:\n",
    "            kernal1.extend(data1)\n",
    "        elif kernalname == 2:\n",
    "            kernal3.extend(data1)\n",
    "        filename = f'./shuffleNet_v1_weights/conv_stage3/Gconv4/{a_group_key[0]}_kernal_{kernalname + 1}.mat'\n",
    "        mdic = {\"weight\": data1, \"label\": \"experiment\"}\n",
    "        scio.savemat(filename, mdic)\n",
    "        counter = 0\n",
    "        kernalname += 2        \n",
    "print('done')"
   ]
  },
  {
   "cell_type": "markdown",
   "metadata": {},
   "source": [
    "#### stage3 DWconv4"
   ]
  },
  {
   "cell_type": "code",
   "execution_count": 20,
   "metadata": {},
   "outputs": [
    {
     "name": "stdout",
     "output_type": "stream",
     "text": [
      "done\n"
     ]
    }
   ],
   "source": [
    "#Get the data\n",
    "dataset = list(f['depthwise_conv2d_5']['depthwise_conv2d_5']['depthwise_kernel:0'])\n",
    "#print(dataset)\n",
    "order = [0, 4, 8, 12, 1, 5, 9, 13, 2, 6, 10, 14, 3, 7, 11, 15]\n",
    "counter = 0\n",
    "kernalname = 0\n",
    "for kernalx in order:\n",
    "    if counter == 0:\n",
    "        data = []\n",
    "    for i in range(3):\n",
    "        for j in range(3):\n",
    "            data.append(f['depthwise_conv2d_5']['depthwise_conv2d_5']['depthwise_kernel:0'][i][j][kernalx][0]) #['bias:0'], ['kernel:0']\n",
    "    data.append(0.0)\n",
    "    counter += 1\n",
    "    if counter == 4:\n",
    "        data = np.array(data).reshape(8, 5)\n",
    "        if kernalname == 0:\n",
    "            kernal0.extend(data)\n",
    "        elif kernalname == 1:\n",
    "            kernal1.extend(data)\n",
    "        elif kernalname == 2:\n",
    "            kernal2.extend(data)\n",
    "        elif kernalname == 3:\n",
    "            kernal3.extend(data)\n",
    "        filename = f'./shuffleNet_v1_weights/conv_stage3/DWconv4/{a_group_key[0]}_kernal_{kernalname}.mat'\n",
    "        mdic = {\"weight\": data, \"label\": \"experiment\"}\n",
    "        scio.savemat(filename, mdic)\n",
    "        counter = 0\n",
    "        kernalname += 1\n",
    "print('done')"
   ]
  },
  {
   "cell_type": "markdown",
   "metadata": {},
   "source": [
    "#### stage3 PWconv4"
   ]
  },
  {
   "cell_type": "code",
   "execution_count": 21,
   "metadata": {},
   "outputs": [
    {
     "name": "stdout",
     "output_type": "stream",
     "text": [
      "done\n"
     ]
    }
   ],
   "source": [
    "#Get the data\n",
    "dataset = list(f['conv2d_21']['conv2d_21']['kernel:0'])\n",
    "dataset1 = list(f['conv2d_22']['conv2d_22']['kernel:0'])\n",
    "#print(dataset)\n",
    "#print(dataset1)\n",
    "order = [0, 4, 8, 12, 16, 20, 24, 28, 1, 5, 9, 13, 17, 21, 25, 29, 2, 6, 10, 14, 18, 22, 26, 30, 3, 7, 11, 15, 19, 23, 27, 31]\n",
    "counter = 0\n",
    "for kernalx in order:\n",
    "    if counter == 0:\n",
    "        data = []\n",
    "        data1 = []\n",
    "    for i in range(8):\n",
    "        data.append(f['conv2d_21']['conv2d_21']['kernel:0'][0][0][i][kernalx]) #['bias:0'], ['kernel:0']\n",
    "        if i%4 == 3:\n",
    "            data.append(0.0)\n",
    "    for i in range(8):\n",
    "        data1.append(f['conv2d_22']['conv2d_22']['kernel:0'][0][0][i][kernalx]) #['bias:0'], ['kernel:0']\n",
    "        if i%4 == 3:\n",
    "            data1.append(0.0)\n",
    "    counter += 1\n",
    "    if counter == 8:\n",
    "        data.extend(data1)\n",
    "        data = np.array(data).reshape(32, 5)\n",
    "        if (kernalx-28) == 0:\n",
    "            kernal0.extend(data)\n",
    "        elif (kernalx-28) == 1:\n",
    "            kernal1.extend(data)\n",
    "        elif (kernalx-28) == 2:\n",
    "            kernal2.extend(data)\n",
    "        elif (kernalx-28) == 3:\n",
    "            kernal3.extend(data)\n",
    "        filename = f'./shuffleNet_v1_weights/conv_stage3/PWconv4/{a_group_key[0]}_kernal_{kernalx-28}.mat'\n",
    "        mdic = {\"weight\": data, \"label\": \"experiment\"}\n",
    "        scio.savemat(filename, mdic)\n",
    "        counter = 0          \n",
    "print('done')"
   ]
  },
  {
   "cell_type": "markdown",
   "metadata": {},
   "source": [
    "#### stage4 Dense"
   ]
  },
  {
   "cell_type": "code",
   "execution_count": null,
   "metadata": {},
   "outputs": [],
   "source": [
    "#Get the data\n",
    "kernal_dataset = list(f['dense']['dense']['kernel:0'])\n",
    "bias_dataset = list(f['dense']['dense']['bias:0'])\n",
    "print(kernal_dataset)\n",
    "print(bias_dataset)\n",
    "for kernalx in range(2):\n",
    "    data = []\n",
    "    for kernaly in range(64):\n",
    "        data.append(f['dense']['dense']['kernel:0'][kernaly][kernalx]) #['bias:0'], ['kernel:0']\n",
    "        if kernaly == 3:\n",
    "            data.append(f['dense']['dense']['bias:0'][kernalx]) #['bias:0'], ['kernel:0']\n",
    "        elif kernaly%4 == 3:\n",
    "            data.append(0.0)\n",
    "    data = np.array(data).reshape(16, 5)\n",
    "    if kernalx == 0:\n",
    "        kernal0.extend(data)\n",
    "    elif kernalx == 1:\n",
    "        kernal1.extend(data)\n",
    "    #pd.DataFrame(data).to_csv(f\"./shuffleNet_v1_weights/conv_stage1/{a_group_key[0]}_kernal_{kernalx*4 + kernaly}.csv\", chunksize = 64)\n",
    "    filename = f'./shuffleNet_v1_weights/conv_stage4/Dense/{a_group_key[0]}_kernal_{kernalx}.mat'\n",
    "    mdic = {\"weight\": data, \"label\": \"experiment\"}\n",
    "    scio.savemat(filename, mdic)\n",
    "print('done')"
   ]
  },
  {
   "cell_type": "code",
   "execution_count": 23,
   "metadata": {},
   "outputs": [],
   "source": [
    "kernal0 = np.array(kernal0).reshape(324, 5)\n",
    "kernal1 = np.array(kernal1).reshape(324, 5)\n",
    "kernal2 = np.array(kernal2).reshape(308, 5)\n",
    "kernal3 = np.array(kernal3).reshape(308, 5)\n",
    "#print(kernal0)\n",
    "#print(kernal1)\n",
    "#print(kernal2)\n",
    "#print(kernal3)\n",
    "\n",
    "filename = f'./shuffleNet_v1_weights/{a_group_key[0]}_kernal_{0}_0603.mat'\n",
    "mdic = {\"weight\": kernal0, \"label\": \"experiment\"}\n",
    "scio.savemat(filename, mdic)\n",
    "\n",
    "filename = f'./shuffleNet_v1_weights/{a_group_key[0]}_kernal_{1}_0603.mat'\n",
    "mdic = {\"weight\": kernal1, \"label\": \"experiment\"}\n",
    "scio.savemat(filename, mdic)\n",
    "\n",
    "filename = f'./shuffleNet_v1_weights/{a_group_key[0]}_kernal_{2}_0603.mat'\n",
    "mdic = {\"weight\": kernal2, \"label\": \"experiment\"}\n",
    "scio.savemat(filename, mdic)\n",
    "\n",
    "filename = f'./shuffleNet_v1_weights/{a_group_key[0]}_kernal_{3}_0603.mat'\n",
    "mdic = {\"weight\": kernal3, \"label\": \"experiment\"}\n",
    "scio.savemat(filename, mdic)"
   ]
  },
  {
   "cell_type": "markdown",
   "metadata": {},
   "source": [
    "#### 此處開始為硬體shuffleNet test data的.m檔輸出"
   ]
  },
  {
   "cell_type": "code",
   "execution_count": 5,
   "metadata": {},
   "outputs": [],
   "source": [
    "import numpy as np\n",
    "import pandas as pd\n",
    "import scipy.io as scio"
   ]
  },
  {
   "cell_type": "code",
   "execution_count": 6,
   "metadata": {},
   "outputs": [
    {
     "name": "stdout",
     "output_type": "stream",
     "text": [
      "yes dataset size: 99480\n"
     ]
    }
   ],
   "source": [
    "yes_database_file = './car_crash_dataset/yes_database.txt'\n",
    "with open(yes_database_file, 'r') as file:\n",
    "    \n",
    "    lines = file.readlines()\n",
    "yesdataset_size = int((lines[0].split(','))[0])\n",
    "yesdataset = np.zeros((yesdataset_size, 64, 64, 1))\n",
    "for i in range(yesdataset_size):\n",
    "    for j in range(64):\n",
    "        numbers = lines[i* 64 + j + 1].split(',')\n",
    "        numbers = [float(num) for num in numbers]\n",
    "        for k in range(64):\n",
    "            yesdataset[i][j][k][0] = numbers[k]\n",
    "print(f'yes dataset size: {yesdataset.shape[0]}')"
   ]
  },
  {
   "cell_type": "code",
   "execution_count": 8,
   "metadata": {},
   "outputs": [],
   "source": [
    "signal0 = (np.array(yesdataset[5000]).reshape(64, 64)).astype(np.float16)\n",
    "\n",
    "filename = f'./shuffleNet_v1_weights/yes_signal0.mat'\n",
    "mdic = {\"weight\": signal0, \"label\": \"experiment\"}\n",
    "scio.savemat(filename, mdic)\n",
    "\n",
    "signal1 = (np.array(yesdataset[10000]).reshape(64, 64)).astype(np.float16)\n",
    "\n",
    "filename = f'./shuffleNet_v1_weights/yes_signal1.mat'\n",
    "mdic = {\"weight\": signal1, \"label\": \"experiment\"}\n",
    "scio.savemat(filename, mdic)\n",
    "\n",
    "signal2 = (np.array(yesdataset[15000]).reshape(64, 64)).astype(np.float16)\n",
    "\n",
    "filename = f'./shuffleNet_v1_weights/yes_signal2.mat'\n",
    "mdic = {\"weight\": signal2, \"label\": \"experiment\"}\n",
    "scio.savemat(filename, mdic)\n",
    "\n",
    "signal3 = (np.array(yesdataset[20000]).reshape(64, 64)).astype(np.float16)\n",
    "\n",
    "filename = f'./shuffleNet_v1_weights/yes_signal3.mat'\n",
    "mdic = {\"weight\": signal3, \"label\": \"experiment\"}\n",
    "scio.savemat(filename, mdic)\n",
    "\n",
    "signal4 = (np.array(yesdataset[25000]).reshape(64, 64)).astype(np.float16)\n",
    "\n",
    "filename = f'./shuffleNet_v1_weights/yes_signal4.mat'\n",
    "mdic = {\"weight\": signal4, \"label\": \"experiment\"}\n",
    "scio.savemat(filename, mdic)\n",
    "\n",
    "signal5 = (np.array(yesdataset[30000]).reshape(64, 64)).astype(np.float16)\n",
    "\n",
    "filename = f'./shuffleNet_v1_weights/yes_signal5.mat'\n",
    "mdic = {\"weight\": signal5, \"label\": \"experiment\"}\n",
    "scio.savemat(filename, mdic)\n",
    "\n",
    "signal6 = (np.array(yesdataset[35000]).reshape(64, 64)).astype(np.float16)\n",
    "\n",
    "filename = f'./shuffleNet_v1_weights/yes_signal6.mat'\n",
    "mdic = {\"weight\": signal6, \"label\": \"experiment\"}\n",
    "scio.savemat(filename, mdic)\n",
    "\n",
    "signal7 = (np.array(yesdataset[40000]).reshape(64, 64)).astype(np.float16)\n",
    "\n",
    "filename = f'./shuffleNet_v1_weights/yes_signal7.mat'\n",
    "mdic = {\"weight\": signal7, \"label\": \"experiment\"}\n",
    "scio.savemat(filename, mdic)\n",
    "\n",
    "signal8 = (np.array(yesdataset[45000]).reshape(64, 64)).astype(np.float16)\n",
    "\n",
    "filename = f'./shuffleNet_v1_weights/yes_signal8.mat'\n",
    "mdic = {\"weight\": signal8, \"label\": \"experiment\"}\n",
    "scio.savemat(filename, mdic)\n",
    "\n",
    "signal9 = (np.array(yesdataset[50000]).reshape(64, 64)).astype(np.float16)\n",
    "\n",
    "filename = f'./shuffleNet_v1_weights/yes_signal9.mat'\n",
    "mdic = {\"weight\": signal9, \"label\": \"experiment\"}\n",
    "scio.savemat(filename, mdic)"
   ]
  },
  {
   "cell_type": "code",
   "execution_count": 2,
   "metadata": {},
   "outputs": [
    {
     "name": "stdout",
     "output_type": "stream",
     "text": [
      "no dataset size: 100504\n"
     ]
    }
   ],
   "source": [
    "no_database_file = './car_crash_dataset/no_database.txt'\n",
    "with open(no_database_file, 'r') as file:\n",
    "    \n",
    "    lines = file.readlines()\n",
    "nodataset_size = int((lines[0].split(','))[0])\n",
    "nodataset = np.zeros((nodataset_size, 64, 64, 1))\n",
    "for i in range(nodataset_size):\n",
    "    for j in range(64):\n",
    "        numbers = lines[i* 64 + j + 1].split(',')\n",
    "        numbers = [float(num) for num in numbers]\n",
    "        for k in range(64):\n",
    "            nodataset[i][j][k][0] = numbers[k]\n",
    "print(f'no dataset size: {nodataset.shape[0]}')"
   ]
  },
  {
   "cell_type": "code",
   "execution_count": 3,
   "metadata": {},
   "outputs": [],
   "source": [
    "signal0 = (np.array(nodataset[55000]).reshape(64, 64)).astype(np.float16)\n",
    "\n",
    "filename = f'./shuffleNet_v1_weights/no_signal0.mat'\n",
    "mdic = {\"weight\": signal0, \"label\": \"experiment\"}\n",
    "scio.savemat(filename, mdic)\n",
    "\n",
    "signal1 = (np.array(nodataset[50000]).reshape(64, 64)).astype(np.float16)\n",
    "\n",
    "filename = f'./shuffleNet_v1_weights/no_signal1.mat'\n",
    "mdic = {\"weight\": signal1, \"label\": \"experiment\"}\n",
    "scio.savemat(filename, mdic)\n",
    "\n",
    "signal2 = (np.array(nodataset[45000]).reshape(64, 64)).astype(np.float16)\n",
    "\n",
    "filename = f'./shuffleNet_v1_weights/no_signal2.mat'\n",
    "mdic = {\"weight\": signal2, \"label\": \"experiment\"}\n",
    "scio.savemat(filename, mdic)\n",
    "\n",
    "signal3 = (np.array(nodataset[40000]).reshape(64, 64)).astype(np.float16)\n",
    "\n",
    "filename = f'./shuffleNet_v1_weights/no_signal3.mat'\n",
    "mdic = {\"weight\": signal3, \"label\": \"experiment\"}\n",
    "scio.savemat(filename, mdic)\n",
    "\n",
    "signal4 = (np.array(nodataset[5000]).reshape(64, 64)).astype(np.float16)\n",
    "\n",
    "filename = f'./shuffleNet_v1_weights/no_signal4.mat'\n",
    "mdic = {\"weight\": signal4, \"label\": \"experiment\"}\n",
    "scio.savemat(filename, mdic)\n",
    "\n",
    "signal5 = (np.array(nodataset[10000]).reshape(64, 64)).astype(np.float16)\n",
    "\n",
    "filename = f'./shuffleNet_v1_weights/no_signal5.mat'\n",
    "mdic = {\"weight\": signal5, \"label\": \"experiment\"}\n",
    "scio.savemat(filename, mdic)\n",
    "\n",
    "signal6 = (np.array(nodataset[15000]).reshape(64, 64)).astype(np.float16)\n",
    "\n",
    "filename = f'./shuffleNet_v1_weights/no_signal6.mat'\n",
    "mdic = {\"weight\": signal6, \"label\": \"experiment\"}\n",
    "scio.savemat(filename, mdic)\n",
    "\n",
    "signal7 = (np.array(nodataset[20000]).reshape(64, 64)).astype(np.float16)\n",
    "\n",
    "filename = f'./shuffleNet_v1_weights/no_signal7.mat'\n",
    "mdic = {\"weight\": signal7, \"label\": \"experiment\"}\n",
    "scio.savemat(filename, mdic)\n",
    "\n",
    "signal8 = (np.array(nodataset[30000]).reshape(64, 64)).astype(np.float16)\n",
    "\n",
    "filename = f'./shuffleNet_v1_weights/no_signal8.mat'\n",
    "mdic = {\"weight\": signal8, \"label\": \"experiment\"}\n",
    "scio.savemat(filename, mdic)\n",
    "\n",
    "signal9 = (np.array(nodataset[35000]).reshape(64, 64)).astype(np.float16)\n",
    "\n",
    "filename = f'./shuffleNet_v1_weights/no_signal9.mat'\n",
    "mdic = {\"weight\": signal9, \"label\": \"experiment\"}\n",
    "scio.savemat(filename, mdic)"
   ]
  }
 ],
 "metadata": {
  "kernelspec": {
   "display_name": "image_recognition",
   "language": "python",
   "name": "python3"
  },
  "language_info": {
   "codemirror_mode": {
    "name": "ipython",
    "version": 3
   },
   "file_extension": ".py",
   "mimetype": "text/x-python",
   "name": "python",
   "nbconvert_exporter": "python",
   "pygments_lexer": "ipython3",
   "version": "3.6.13"
  }
 },
 "nbformat": 4,
 "nbformat_minor": 2
}
